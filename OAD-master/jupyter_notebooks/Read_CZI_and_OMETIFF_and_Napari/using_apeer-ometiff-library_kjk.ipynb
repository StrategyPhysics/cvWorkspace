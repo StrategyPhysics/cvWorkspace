{
 "cells": [
  {
   "cell_type": "code",
   "execution_count": 2,
   "metadata": {
    "slideshow": {
     "slide_type": "slide"
    }
   },
   "outputs": [],
   "source": [
    "# import the libraries\n",
    "from apeer_ometiff_library import io, processing, omexmlClass\n",
    "\n",
    "# import script with some useful functions\n",
    "import sys\n",
    "sys.path.append(r'modules')\n",
    "import imgfileutils as imf\n",
    "from IPython.display import display, HTML"
   ]
  },
  {
   "cell_type": "code",
   "execution_count": 3,
   "metadata": {
    "slideshow": {
     "slide_type": "slide"
    }
   },
   "outputs": [],
   "source": [
    "# define your OME-TIFF file here\n",
    "#filename = r\"testdata\\CellDivision_T=10_Z=15_CH=2_DCV_small.ome.tiff\"\n",
    "filename = r\"testdata\\3CH_Z-Stack_RN-DAPI.ome.tiff\"\n",
    "\n",
    "# extract XML and save it to disk\n",
    "# xmlometiff = imf.writexml_ometiff(filename)"
   ]
  },
  {
   "cell_type": "code",
   "execution_count": 4,
   "metadata": {
    "slideshow": {
     "slide_type": "slide"
    }
   },
   "outputs": [
    {
     "name": "stdout",
     "output_type": "stream",
     "text": [
      "Detected Image Type (based on extension):  ometiff\n",
      "'TiffFile' object is not subscriptable\n",
      "Key not found: 'OMEXML' object has no attribute 'instrument'\n",
      "Key not found: 'OMEXML' object has no attribute 'instrument'\n",
      "Key not found: 'OMEXML' object has no attribute 'instrument'\n",
      "Scales will not be rounded.\n"
     ]
    }
   ],
   "source": [
    "# Read metadata and array differently for OME-TIFF by using the io function of the apeer-ometiff library\n",
    " \n",
    "# Return value is an array of order (T, Z, C, X, Y)\n",
    "array, omexml = io.read_ometiff(filename)\n",
    "\n",
    "# get the metadata for the OME-TIFF file\n",
    "metadata, add_metadata = imf.get_metadata(filename)"
   ]
  },
  {
   "cell_type": "code",
   "execution_count": 21,
   "metadata": {},
   "outputs": [
    {
     "name": "stdout",
     "output_type": "stream",
     "text": [
      "<?xml version=\"1.0\" encoding=\"UTF-8\" standalone=\"no\"?><!-- Warning: this comment is an OME-XML metadata block, which contains crucial dimensional parameters and other important metadata. Please edit cautiously (if at all), and back up the original data before doing so. For more information, see the OME-TIFF web site: https://docs.openmicroscopy.org/latest/ome-model/ome-tiff/. --><OME xmlns=\"http://www.openmicroscopy.org/Schemas/OME/2016-06\" xmlns:xsi=\"http://www.w3.org/2001/XMLSchema-instance\" Creator=\"OME Bio-Formats 6.0.1\" UUID=\"urn:uuid:894bf619-9480-4fb0-9bfe-47ec72a40f10\" xsi:schemaLocation=\"http://www.openmicroscopy.org/Schemas/OME/2016-06 http://www.openmicroscopy.org/Schemas/OME/2016-06/ome.xsd\"><Experimenter ID=\"Experimenter:0\" UserName=\"M1SRH\"/><Instrument ID=\"Instrument:0\"><Microscope/><Detector ID=\"Detector:1\"/><Objective ID=\"Objective:1\" Immersion=\"Other\" NominalMagnification=\"63.0\"/></Instrument><Image ID=\"Image:0\" Name=\"Image1 #1\"><AcquisitionDate>2002-05-14T16:31:48</AcquisitionDate><ExperimenterRef ID=\"Experimenter:0\"/><Description>Triple channel fluorescence, Z-Stack, DCV</Description><InstrumentRef ID=\"Instrument:0\"/><ObjectiveSettings ID=\"Objective:1\"/><Pixels BigEndian=\"false\" DimensionOrder=\"XYCZT\" ID=\"Pixels:0\" Interleaved=\"false\" PhysicalSizeX=\"0.106\" PhysicalSizeXUnit=\"µm\" PhysicalSizeY=\"0.106\" PhysicalSizeYUnit=\"µm\" PhysicalSizeZ=\"0.3\" PhysicalSizeZUnit=\"µm\" SignificantBits=\"16\" SizeC=\"1\" SizeT=\"1\" SizeX=\"425\" SizeY=\"425\" SizeZ=\"22\" TimeIncrement=\"0.0\" TimeIncrementUnit=\"s\" Type=\"uint16\"><Channel AcquisitionMode=\"WideField\" Color=\"65535\" EmissionWavelength=\"460.0\" EmissionWavelengthUnit=\"nm\" ExcitationWavelength=\"360.0\" ExcitationWavelengthUnit=\"nm\" Fluor=\"BlueGFP\" ID=\"Channel:0:0\" IlluminationType=\"Other\" Name=\"BlueGFP\" SamplesPerPixel=\"1\"><DetectorSettings ID=\"Detector:1\"/><LightPath/></Channel><TiffData FirstC=\"0\" FirstT=\"0\" FirstZ=\"0\" IFD=\"0\" PlaneCount=\"1\"><UUID FileName=\"3CH_Z-Stack_RN-DAPI.ome.tiff\">urn:uuid:894bf619-9480-4fb0-9bfe-47ec72a40f10</UUID></TiffData><TiffData FirstC=\"0\" FirstT=\"0\" FirstZ=\"1\" IFD=\"1\" PlaneCount=\"1\"><UUID FileName=\"3CH_Z-Stack_RN-DAPI.ome.tiff\">urn:uuid:894bf619-9480-4fb0-9bfe-47ec72a40f10</UUID></TiffData><TiffData FirstC=\"0\" FirstT=\"0\" FirstZ=\"2\" IFD=\"2\" PlaneCount=\"1\"><UUID FileName=\"3CH_Z-Stack_RN-DAPI.ome.tiff\">urn:uuid:894bf619-9480-4fb0-9bfe-47ec72a40f10</UUID></TiffData><TiffData FirstC=\"0\" FirstT=\"0\" FirstZ=\"3\" IFD=\"3\" PlaneCount=\"1\"><UUID FileName=\"3CH_Z-Stack_RN-DAPI.ome.tiff\">urn:uuid:894bf619-9480-4fb0-9bfe-47ec72a40f10</UUID></TiffData><TiffData FirstC=\"0\" FirstT=\"0\" FirstZ=\"4\" IFD=\"4\" PlaneCount=\"1\"><UUID FileName=\"3CH_Z-Stack_RN-DAPI.ome.tiff\">urn:uuid:894bf619-9480-4fb0-9bfe-47ec72a40f10</UUID></TiffData><TiffData FirstC=\"0\" FirstT=\"0\" FirstZ=\"5\" IFD=\"5\" PlaneCount=\"1\"><UUID FileName=\"3CH_Z-Stack_RN-DAPI.ome.tiff\">urn:uuid:894bf619-9480-4fb0-9bfe-47ec72a40f10</UUID></TiffData><TiffData FirstC=\"0\" FirstT=\"0\" FirstZ=\"6\" IFD=\"6\" PlaneCount=\"1\"><UUID FileName=\"3CH_Z-Stack_RN-DAPI.ome.tiff\">urn:uuid:894bf619-9480-4fb0-9bfe-47ec72a40f10</UUID></TiffData><TiffData FirstC=\"0\" FirstT=\"0\" FirstZ=\"7\" IFD=\"7\" PlaneCount=\"1\"><UUID FileName=\"3CH_Z-Stack_RN-DAPI.ome.tiff\">urn:uuid:894bf619-9480-4fb0-9bfe-47ec72a40f10</UUID></TiffData><TiffData FirstC=\"0\" FirstT=\"0\" FirstZ=\"8\" IFD=\"8\" PlaneCount=\"1\"><UUID FileName=\"3CH_Z-Stack_RN-DAPI.ome.tiff\">urn:uuid:894bf619-9480-4fb0-9bfe-47ec72a40f10</UUID></TiffData><TiffData FirstC=\"0\" FirstT=\"0\" FirstZ=\"9\" IFD=\"9\" PlaneCount=\"1\"><UUID FileName=\"3CH_Z-Stack_RN-DAPI.ome.tiff\">urn:uuid:894bf619-9480-4fb0-9bfe-47ec72a40f10</UUID></TiffData><TiffData FirstC=\"0\" FirstT=\"0\" FirstZ=\"10\" IFD=\"10\" PlaneCount=\"1\"><UUID FileName=\"3CH_Z-Stack_RN-DAPI.ome.tiff\">urn:uuid:894bf619-9480-4fb0-9bfe-47ec72a40f10</UUID></TiffData><TiffData FirstC=\"0\" FirstT=\"0\" FirstZ=\"11\" IFD=\"11\" PlaneCount=\"1\"><UUID FileName=\"3CH_Z-Stack_RN-DAPI.ome.tiff\">urn:uuid:894bf619-9480-4fb0-9bfe-47ec72a40f10</UUID></TiffData><TiffData FirstC=\"0\" FirstT=\"0\" FirstZ=\"12\" IFD=\"12\" PlaneCount=\"1\"><UUID FileName=\"3CH_Z-Stack_RN-DAPI.ome.tiff\">urn:uuid:894bf619-9480-4fb0-9bfe-47ec72a40f10</UUID></TiffData><TiffData FirstC=\"0\" FirstT=\"0\" FirstZ=\"13\" IFD=\"13\" PlaneCount=\"1\"><UUID FileName=\"3CH_Z-Stack_RN-DAPI.ome.tiff\">urn:uuid:894bf619-9480-4fb0-9bfe-47ec72a40f10</UUID></TiffData><TiffData FirstC=\"0\" FirstT=\"0\" FirstZ=\"14\" IFD=\"14\" PlaneCount=\"1\"><UUID FileName=\"3CH_Z-Stack_RN-DAPI.ome.tiff\">urn:uuid:894bf619-9480-4fb0-9bfe-47ec72a40f10</UUID></TiffData><TiffData FirstC=\"0\" FirstT=\"0\" FirstZ=\"15\" IFD=\"15\" PlaneCount=\"1\"><UUID FileName=\"3CH_Z-Stack_RN-DAPI.ome.tiff\">urn:uuid:894bf619-9480-4fb0-9bfe-47ec72a40f10</UUID></TiffData><TiffData FirstC=\"0\" FirstT=\"0\" FirstZ=\"16\" IFD=\"16\" PlaneCount=\"1\"><UUID FileName=\"3CH_Z-Stack_RN-DAPI.ome.tiff\">urn:uuid:894bf619-9480-4fb0-9bfe-47ec72a40f10</UUID></TiffData><TiffData FirstC=\"0\" FirstT=\"0\" FirstZ=\"17\" IFD=\"17\" PlaneCount=\"1\"><UUID FileName=\"3CH_Z-Stack_RN-DAPI.ome.tiff\">urn:uuid:894bf619-9480-4fb0-9bfe-47ec72a40f10</UUID></TiffData><TiffData FirstC=\"0\" FirstT=\"0\" FirstZ=\"18\" IFD=\"18\" PlaneCount=\"1\"><UUID FileName=\"3CH_Z-Stack_RN-DAPI.ome.tiff\">urn:uuid:894bf619-9480-4fb0-9bfe-47ec72a40f10</UUID></TiffData><TiffData FirstC=\"0\" FirstT=\"0\" FirstZ=\"19\" IFD=\"19\" PlaneCount=\"1\"><UUID FileName=\"3CH_Z-Stack_RN-DAPI.ome.tiff\">urn:uuid:894bf619-9480-4fb0-9bfe-47ec72a40f10</UUID></TiffData><TiffData FirstC=\"0\" FirstT=\"0\" FirstZ=\"20\" IFD=\"20\" PlaneCount=\"1\"><UUID FileName=\"3CH_Z-Stack_RN-DAPI.ome.tiff\">urn:uuid:894bf619-9480-4fb0-9bfe-47ec72a40f10</UUID></TiffData><TiffData FirstC=\"0\" FirstT=\"0\" FirstZ=\"21\" IFD=\"21\" PlaneCount=\"1\"><UUID FileName=\"3CH_Z-Stack_RN-DAPI.ome.tiff\">urn:uuid:894bf619-9480-4fb0-9bfe-47ec72a40f10</UUID></TiffData><Plane DeltaT=\"0.0\" DeltaTUnit=\"s\" PositionX=\"0.0\" PositionXUnit=\"reference frame\" PositionY=\"0.0\" PositionYUnit=\"reference frame\" PositionZ=\"-72.47500000000001\" PositionZUnit=\"reference frame\" TheC=\"0\" TheT=\"0\" TheZ=\"0\"/><Plane DeltaT=\"1.468000054359436\" DeltaTUnit=\"s\" PositionX=\"0.0\" PositionXUnit=\"reference frame\" PositionY=\"0.0\" PositionYUnit=\"reference frame\" PositionZ=\"-72.175\" PositionZUnit=\"reference frame\" TheC=\"0\" TheT=\"0\" TheZ=\"1\"/><Plane DeltaT=\"2.937000036239624\" DeltaTUnit=\"s\" PositionX=\"0.0\" PositionXUnit=\"reference frame\" PositionY=\"0.0\" PositionYUnit=\"reference frame\" PositionZ=\"-71.875\" PositionZUnit=\"reference frame\" TheC=\"0\" TheT=\"0\" TheZ=\"2\"/><Plane DeltaT=\"4.343000054359436\" DeltaTUnit=\"s\" PositionX=\"0.0\" PositionXUnit=\"reference frame\" PositionY=\"0.0\" PositionYUnit=\"reference frame\" PositionZ=\"-71.575\" PositionZUnit=\"reference frame\" TheC=\"0\" TheT=\"0\" TheZ=\"3\"/><Plane DeltaT=\"5.765000104904175\" DeltaTUnit=\"s\" PositionX=\"0.0\" PositionXUnit=\"reference frame\" PositionY=\"0.0\" PositionYUnit=\"reference frame\" PositionZ=\"-71.275\" PositionZUnit=\"reference frame\" TheC=\"0\" TheT=\"0\" TheZ=\"4\"/><Plane DeltaT=\"7.187000036239624\" DeltaTUnit=\"s\" PositionX=\"0.0\" PositionXUnit=\"reference frame\" PositionY=\"0.0\" PositionYUnit=\"reference frame\" PositionZ=\"-70.97500000000001\" PositionZUnit=\"reference frame\" TheC=\"0\" TheT=\"0\" TheZ=\"5\"/><Plane DeltaT=\"9.125\" DeltaTUnit=\"s\" PositionX=\"0.0\" PositionXUnit=\"reference frame\" PositionY=\"0.0\" PositionYUnit=\"reference frame\" PositionZ=\"-70.675\" PositionZUnit=\"reference frame\" TheC=\"0\" TheT=\"0\" TheZ=\"6\"/><Plane DeltaT=\"11.25\" DeltaTUnit=\"s\" PositionX=\"0.0\" PositionXUnit=\"reference frame\" PositionY=\"0.0\" PositionYUnit=\"reference frame\" PositionZ=\"-70.375\" PositionZUnit=\"reference frame\" TheC=\"0\" TheT=\"0\" TheZ=\"7\"/><Plane DeltaT=\"12.922000050544739\" DeltaTUnit=\"s\" PositionX=\"0.0\" PositionXUnit=\"reference frame\" PositionY=\"0.0\" PositionYUnit=\"reference frame\" PositionZ=\"-70.075\" PositionZUnit=\"reference frame\" TheC=\"0\" TheT=\"0\" TheZ=\"8\"/><Plane DeltaT=\"14.95300006866455\" DeltaTUnit=\"s\" PositionX=\"0.0\" PositionXUnit=\"reference frame\" PositionY=\"0.0\" PositionYUnit=\"reference frame\" PositionZ=\"-69.775\" PositionZUnit=\"reference frame\" TheC=\"0\" TheT=\"0\" TheZ=\"9\"/><Plane DeltaT=\"16.343000054359436\" DeltaTUnit=\"s\" PositionX=\"0.0\" PositionXUnit=\"reference frame\" PositionY=\"0.0\" PositionYUnit=\"reference frame\" PositionZ=\"-69.47500000000001\" PositionZUnit=\"reference frame\" TheC=\"0\" TheT=\"0\" TheZ=\"10\"/><Plane DeltaT=\"17.75\" DeltaTUnit=\"s\" PositionX=\"0.0\" PositionXUnit=\"reference frame\" PositionY=\"0.0\" PositionYUnit=\"reference frame\" PositionZ=\"-69.175\" PositionZUnit=\"reference frame\" TheC=\"0\" TheT=\"0\" TheZ=\"11\"/><Plane DeltaT=\"19.218000054359436\" DeltaTUnit=\"s\" PositionX=\"0.0\" PositionXUnit=\"reference frame\" PositionY=\"0.0\" PositionYUnit=\"reference frame\" PositionZ=\"-68.875\" PositionZUnit=\"reference frame\" TheC=\"0\" TheT=\"0\" TheZ=\"12\"/><Plane DeltaT=\"20.890000104904175\" DeltaTUnit=\"s\" PositionX=\"0.0\" PositionXUnit=\"reference frame\" PositionY=\"0.0\" PositionYUnit=\"reference frame\" PositionZ=\"-68.575\" PositionZUnit=\"reference frame\" TheC=\"0\" TheT=\"0\" TheZ=\"13\"/><Plane DeltaT=\"22.843000054359436\" DeltaTUnit=\"s\" PositionX=\"0.0\" PositionXUnit=\"reference frame\" PositionY=\"0.0\" PositionYUnit=\"reference frame\" PositionZ=\"-68.275\" PositionZUnit=\"reference frame\" TheC=\"0\" TheT=\"0\" TheZ=\"14\"/><Plane DeltaT=\"24.890000104904175\" DeltaTUnit=\"s\" PositionX=\"0.0\" PositionXUnit=\"reference frame\" PositionY=\"0.0\" PositionYUnit=\"reference frame\" PositionZ=\"-67.97500000000001\" PositionZUnit=\"reference frame\" TheC=\"0\" TheT=\"0\" TheZ=\"15\"/><Plane DeltaT=\"28.812000036239624\" DeltaTUnit=\"s\" PositionX=\"0.0\" PositionXUnit=\"reference frame\" PositionY=\"0.0\" PositionYUnit=\"reference frame\" PositionZ=\"-67.675\" PositionZUnit=\"reference frame\" TheC=\"0\" TheT=\"0\" TheZ=\"16\"/><Plane DeltaT=\"30.92200005054474\" DeltaTUnit=\"s\" PositionX=\"0.0\" PositionXUnit=\"reference frame\" PositionY=\"0.0\" PositionYUnit=\"reference frame\" PositionZ=\"-67.375\" PositionZUnit=\"reference frame\" TheC=\"0\" TheT=\"0\" TheZ=\"17\"/><Plane DeltaT=\"33.640000104904175\" DeltaTUnit=\"s\" PositionX=\"0.0\" PositionXUnit=\"reference frame\" PositionY=\"0.0\" PositionYUnit=\"reference frame\" PositionZ=\"-67.075\" PositionZUnit=\"reference frame\" TheC=\"0\" TheT=\"0\" TheZ=\"18\"/><Plane DeltaT=\"35.265000104904175\" DeltaTUnit=\"s\" PositionX=\"0.0\" PositionXUnit=\"reference frame\" PositionY=\"0.0\" PositionYUnit=\"reference frame\" PositionZ=\"-66.775\" PositionZUnit=\"reference frame\" TheC=\"0\" TheT=\"0\" TheZ=\"19\"/><Plane DeltaT=\"37.29700005054474\" DeltaTUnit=\"s\" PositionX=\"0.0\" PositionXUnit=\"reference frame\" PositionY=\"0.0\" PositionYUnit=\"reference frame\" PositionZ=\"-66.47500000000001\" PositionZUnit=\"reference frame\" TheC=\"0\" TheT=\"0\" TheZ=\"20\"/><Plane DeltaT=\"38.937000036239624\" DeltaTUnit=\"s\" PositionX=\"0.0\" PositionXUnit=\"reference frame\" PositionY=\"0.0\" PositionYUnit=\"reference frame\" PositionZ=\"-66.175\" PositionZUnit=\"reference frame\" TheC=\"0\" TheT=\"0\" TheZ=\"21\"/></Pixels></Image></OME>\n"
     ]
    }
   ],
   "source": [
    "print(omexml)"
   ]
  },
  {
   "cell_type": "markdown",
   "metadata": {},
   "source": [
    "**Use imgfileutils to figure it all out (line 219)**"
   ]
  },
  {
   "cell_type": "code",
   "execution_count": 40,
   "metadata": {},
   "outputs": [
    {
     "name": "stdout",
     "output_type": "stream",
     "text": [
      "Error:  'TiffFile' object is not subscriptable\n",
      "<?xml version='1.0' encoding='utf-8'?>\n",
      "<OME xmlns=\"http://www.openmicroscopy.org/Schemas/OME/2016-06\" xmlns:xsi=\"http://www.w3.org/2001/XMLSchema-instance\" Creator=\"OME Bio-Formats 6.0.1\" UUID=\"urn:uuid:894bf619-9480-4fb0-9bfe-47ec72a40f10\" xsi:schemaLocation=\"http://www.openmicroscopy.org/Schemas/OME/2016-06 http://www.openmicroscopy.org/Schemas/OME/2016-06/ome.xsd\"><Experimenter ID=\"Experimenter:0\" UserName=\"M1SRH\" /><Instrument ID=\"Instrument:0\"><Microscope /><Detector ID=\"Detector:1\" /><Objective ID=\"Objective:1\" Immersion=\"Other\" NominalMagnification=\"63.0\" /></Instrument><Image ID=\"Image:0\" Name=\"Image1 #1\"><AcquisitionDate>2002-05-14T16:31:48</AcquisitionDate><ExperimenterRef ID=\"Experimenter:0\" /><Description>Triple channel fluorescence, Z-Stack, DCV</Description><InstrumentRef ID=\"Instrument:0\" /><ObjectiveSettings ID=\"Objective:1\" /><Pixels BigEndian=\"false\" DimensionOrder=\"XYCZT\" ID=\"Pixels:0\" Interleaved=\"false\" PhysicalSizeX=\"0.106\" PhysicalSizeXUnit=\"µm\" PhysicalSizeY=\"0.106\" PhysicalSizeYUnit=\"µm\" PhysicalSizeZ=\"0.3\" PhysicalSizeZUnit=\"µm\" SignificantBits=\"16\" SizeC=\"1\" SizeT=\"1\" SizeX=\"425\" SizeY=\"425\" SizeZ=\"22\" TimeIncrement=\"0.0\" TimeIncrementUnit=\"s\" Type=\"uint16\"><Channel AcquisitionMode=\"WideField\" Color=\"65535\" EmissionWavelength=\"460.0\" EmissionWavelengthUnit=\"nm\" ExcitationWavelength=\"360.0\" ExcitationWavelengthUnit=\"nm\" Fluor=\"BlueGFP\" ID=\"Channel:0:0\" IlluminationType=\"Other\" Name=\"BlueGFP\" SamplesPerPixel=\"1\"><DetectorSettings ID=\"Detector:1\" /><LightPath /></Channel><TiffData FirstC=\"0\" FirstT=\"0\" FirstZ=\"0\" IFD=\"0\" PlaneCount=\"1\"><UUID FileName=\"3CH_Z-Stack_RN-DAPI.ome.tiff\">urn:uuid:894bf619-9480-4fb0-9bfe-47ec72a40f10</UUID></TiffData><TiffData FirstC=\"0\" FirstT=\"0\" FirstZ=\"1\" IFD=\"1\" PlaneCount=\"1\"><UUID FileName=\"3CH_Z-Stack_RN-DAPI.ome.tiff\">urn:uuid:894bf619-9480-4fb0-9bfe-47ec72a40f10</UUID></TiffData><TiffData FirstC=\"0\" FirstT=\"0\" FirstZ=\"2\" IFD=\"2\" PlaneCount=\"1\"><UUID FileName=\"3CH_Z-Stack_RN-DAPI.ome.tiff\">urn:uuid:894bf619-9480-4fb0-9bfe-47ec72a40f10</UUID></TiffData><TiffData FirstC=\"0\" FirstT=\"0\" FirstZ=\"3\" IFD=\"3\" PlaneCount=\"1\"><UUID FileName=\"3CH_Z-Stack_RN-DAPI.ome.tiff\">urn:uuid:894bf619-9480-4fb0-9bfe-47ec72a40f10</UUID></TiffData><TiffData FirstC=\"0\" FirstT=\"0\" FirstZ=\"4\" IFD=\"4\" PlaneCount=\"1\"><UUID FileName=\"3CH_Z-Stack_RN-DAPI.ome.tiff\">urn:uuid:894bf619-9480-4fb0-9bfe-47ec72a40f10</UUID></TiffData><TiffData FirstC=\"0\" FirstT=\"0\" FirstZ=\"5\" IFD=\"5\" PlaneCount=\"1\"><UUID FileName=\"3CH_Z-Stack_RN-DAPI.ome.tiff\">urn:uuid:894bf619-9480-4fb0-9bfe-47ec72a40f10</UUID></TiffData><TiffData FirstC=\"0\" FirstT=\"0\" FirstZ=\"6\" IFD=\"6\" PlaneCount=\"1\"><UUID FileName=\"3CH_Z-Stack_RN-DAPI.ome.tiff\">urn:uuid:894bf619-9480-4fb0-9bfe-47ec72a40f10</UUID></TiffData><TiffData FirstC=\"0\" FirstT=\"0\" FirstZ=\"7\" IFD=\"7\" PlaneCount=\"1\"><UUID FileName=\"3CH_Z-Stack_RN-DAPI.ome.tiff\">urn:uuid:894bf619-9480-4fb0-9bfe-47ec72a40f10</UUID></TiffData><TiffData FirstC=\"0\" FirstT=\"0\" FirstZ=\"8\" IFD=\"8\" PlaneCount=\"1\"><UUID FileName=\"3CH_Z-Stack_RN-DAPI.ome.tiff\">urn:uuid:894bf619-9480-4fb0-9bfe-47ec72a40f10</UUID></TiffData><TiffData FirstC=\"0\" FirstT=\"0\" FirstZ=\"9\" IFD=\"9\" PlaneCount=\"1\"><UUID FileName=\"3CH_Z-Stack_RN-DAPI.ome.tiff\">urn:uuid:894bf619-9480-4fb0-9bfe-47ec72a40f10</UUID></TiffData><TiffData FirstC=\"0\" FirstT=\"0\" FirstZ=\"10\" IFD=\"10\" PlaneCount=\"1\"><UUID FileName=\"3CH_Z-Stack_RN-DAPI.ome.tiff\">urn:uuid:894bf619-9480-4fb0-9bfe-47ec72a40f10</UUID></TiffData><TiffData FirstC=\"0\" FirstT=\"0\" FirstZ=\"11\" IFD=\"11\" PlaneCount=\"1\"><UUID FileName=\"3CH_Z-Stack_RN-DAPI.ome.tiff\">urn:uuid:894bf619-9480-4fb0-9bfe-47ec72a40f10</UUID></TiffData><TiffData FirstC=\"0\" FirstT=\"0\" FirstZ=\"12\" IFD=\"12\" PlaneCount=\"1\"><UUID FileName=\"3CH_Z-Stack_RN-DAPI.ome.tiff\">urn:uuid:894bf619-9480-4fb0-9bfe-47ec72a40f10</UUID></TiffData><TiffData FirstC=\"0\" FirstT=\"0\" FirstZ=\"13\" IFD=\"13\" PlaneCount=\"1\"><UUID FileName=\"3CH_Z-Stack_RN-DAPI.ome.tiff\">urn:uuid:894bf619-9480-4fb0-9bfe-47ec72a40f10</UUID></TiffData><TiffData FirstC=\"0\" FirstT=\"0\" FirstZ=\"14\" IFD=\"14\" PlaneCount=\"1\"><UUID FileName=\"3CH_Z-Stack_RN-DAPI.ome.tiff\">urn:uuid:894bf619-9480-4fb0-9bfe-47ec72a40f10</UUID></TiffData><TiffData FirstC=\"0\" FirstT=\"0\" FirstZ=\"15\" IFD=\"15\" PlaneCount=\"1\"><UUID FileName=\"3CH_Z-Stack_RN-DAPI.ome.tiff\">urn:uuid:894bf619-9480-4fb0-9bfe-47ec72a40f10</UUID></TiffData><TiffData FirstC=\"0\" FirstT=\"0\" FirstZ=\"16\" IFD=\"16\" PlaneCount=\"1\"><UUID FileName=\"3CH_Z-Stack_RN-DAPI.ome.tiff\">urn:uuid:894bf619-9480-4fb0-9bfe-47ec72a40f10</UUID></TiffData><TiffData FirstC=\"0\" FirstT=\"0\" FirstZ=\"17\" IFD=\"17\" PlaneCount=\"1\"><UUID FileName=\"3CH_Z-Stack_RN-DAPI.ome.tiff\">urn:uuid:894bf619-9480-4fb0-9bfe-47ec72a40f10</UUID></TiffData><TiffData FirstC=\"0\" FirstT=\"0\" FirstZ=\"18\" IFD=\"18\" PlaneCount=\"1\"><UUID FileName=\"3CH_Z-Stack_RN-DAPI.ome.tiff\">urn:uuid:894bf619-9480-4fb0-9bfe-47ec72a40f10</UUID></TiffData><TiffData FirstC=\"0\" FirstT=\"0\" FirstZ=\"19\" IFD=\"19\" PlaneCount=\"1\"><UUID FileName=\"3CH_Z-Stack_RN-DAPI.ome.tiff\">urn:uuid:894bf619-9480-4fb0-9bfe-47ec72a40f10</UUID></TiffData><TiffData FirstC=\"0\" FirstT=\"0\" FirstZ=\"20\" IFD=\"20\" PlaneCount=\"1\"><UUID FileName=\"3CH_Z-Stack_RN-DAPI.ome.tiff\">urn:uuid:894bf619-9480-4fb0-9bfe-47ec72a40f10</UUID></TiffData><TiffData FirstC=\"0\" FirstT=\"0\" FirstZ=\"21\" IFD=\"21\" PlaneCount=\"1\"><UUID FileName=\"3CH_Z-Stack_RN-DAPI.ome.tiff\">urn:uuid:894bf619-9480-4fb0-9bfe-47ec72a40f10</UUID></TiffData><Plane DeltaT=\"0.0\" DeltaTUnit=\"s\" PositionX=\"0.0\" PositionXUnit=\"reference frame\" PositionY=\"0.0\" PositionYUnit=\"reference frame\" PositionZ=\"-72.47500000000001\" PositionZUnit=\"reference frame\" TheC=\"0\" TheT=\"0\" TheZ=\"0\" /><Plane DeltaT=\"1.468000054359436\" DeltaTUnit=\"s\" PositionX=\"0.0\" PositionXUnit=\"reference frame\" PositionY=\"0.0\" PositionYUnit=\"reference frame\" PositionZ=\"-72.175\" PositionZUnit=\"reference frame\" TheC=\"0\" TheT=\"0\" TheZ=\"1\" /><Plane DeltaT=\"2.937000036239624\" DeltaTUnit=\"s\" PositionX=\"0.0\" PositionXUnit=\"reference frame\" PositionY=\"0.0\" PositionYUnit=\"reference frame\" PositionZ=\"-71.875\" PositionZUnit=\"reference frame\" TheC=\"0\" TheT=\"0\" TheZ=\"2\" /><Plane DeltaT=\"4.343000054359436\" DeltaTUnit=\"s\" PositionX=\"0.0\" PositionXUnit=\"reference frame\" PositionY=\"0.0\" PositionYUnit=\"reference frame\" PositionZ=\"-71.575\" PositionZUnit=\"reference frame\" TheC=\"0\" TheT=\"0\" TheZ=\"3\" /><Plane DeltaT=\"5.765000104904175\" DeltaTUnit=\"s\" PositionX=\"0.0\" PositionXUnit=\"reference frame\" PositionY=\"0.0\" PositionYUnit=\"reference frame\" PositionZ=\"-71.275\" PositionZUnit=\"reference frame\" TheC=\"0\" TheT=\"0\" TheZ=\"4\" /><Plane DeltaT=\"7.187000036239624\" DeltaTUnit=\"s\" PositionX=\"0.0\" PositionXUnit=\"reference frame\" PositionY=\"0.0\" PositionYUnit=\"reference frame\" PositionZ=\"-70.97500000000001\" PositionZUnit=\"reference frame\" TheC=\"0\" TheT=\"0\" TheZ=\"5\" /><Plane DeltaT=\"9.125\" DeltaTUnit=\"s\" PositionX=\"0.0\" PositionXUnit=\"reference frame\" PositionY=\"0.0\" PositionYUnit=\"reference frame\" PositionZ=\"-70.675\" PositionZUnit=\"reference frame\" TheC=\"0\" TheT=\"0\" TheZ=\"6\" /><Plane DeltaT=\"11.25\" DeltaTUnit=\"s\" PositionX=\"0.0\" PositionXUnit=\"reference frame\" PositionY=\"0.0\" PositionYUnit=\"reference frame\" PositionZ=\"-70.375\" PositionZUnit=\"reference frame\" TheC=\"0\" TheT=\"0\" TheZ=\"7\" /><Plane DeltaT=\"12.922000050544739\" DeltaTUnit=\"s\" PositionX=\"0.0\" PositionXUnit=\"reference frame\" PositionY=\"0.0\" PositionYUnit=\"reference frame\" PositionZ=\"-70.075\" PositionZUnit=\"reference frame\" TheC=\"0\" TheT=\"0\" TheZ=\"8\" /><Plane DeltaT=\"14.95300006866455\" DeltaTUnit=\"s\" PositionX=\"0.0\" PositionXUnit=\"reference frame\" PositionY=\"0.0\" PositionYUnit=\"reference frame\" PositionZ=\"-69.775\" PositionZUnit=\"reference frame\" TheC=\"0\" TheT=\"0\" TheZ=\"9\" /><Plane DeltaT=\"16.343000054359436\" DeltaTUnit=\"s\" PositionX=\"0.0\" PositionXUnit=\"reference frame\" PositionY=\"0.0\" PositionYUnit=\"reference frame\" PositionZ=\"-69.47500000000001\" PositionZUnit=\"reference frame\" TheC=\"0\" TheT=\"0\" TheZ=\"10\" /><Plane DeltaT=\"17.75\" DeltaTUnit=\"s\" PositionX=\"0.0\" PositionXUnit=\"reference frame\" PositionY=\"0.0\" PositionYUnit=\"reference frame\" PositionZ=\"-69.175\" PositionZUnit=\"reference frame\" TheC=\"0\" TheT=\"0\" TheZ=\"11\" /><Plane DeltaT=\"19.218000054359436\" DeltaTUnit=\"s\" PositionX=\"0.0\" PositionXUnit=\"reference frame\" PositionY=\"0.0\" PositionYUnit=\"reference frame\" PositionZ=\"-68.875\" PositionZUnit=\"reference frame\" TheC=\"0\" TheT=\"0\" TheZ=\"12\" /><Plane DeltaT=\"20.890000104904175\" DeltaTUnit=\"s\" PositionX=\"0.0\" PositionXUnit=\"reference frame\" PositionY=\"0.0\" PositionYUnit=\"reference frame\" PositionZ=\"-68.575\" PositionZUnit=\"reference frame\" TheC=\"0\" TheT=\"0\" TheZ=\"13\" /><Plane DeltaT=\"22.843000054359436\" DeltaTUnit=\"s\" PositionX=\"0.0\" PositionXUnit=\"reference frame\" PositionY=\"0.0\" PositionYUnit=\"reference frame\" PositionZ=\"-68.275\" PositionZUnit=\"reference frame\" TheC=\"0\" TheT=\"0\" TheZ=\"14\" /><Plane DeltaT=\"24.890000104904175\" DeltaTUnit=\"s\" PositionX=\"0.0\" PositionXUnit=\"reference frame\" PositionY=\"0.0\" PositionYUnit=\"reference frame\" PositionZ=\"-67.97500000000001\" PositionZUnit=\"reference frame\" TheC=\"0\" TheT=\"0\" TheZ=\"15\" /><Plane DeltaT=\"28.812000036239624\" DeltaTUnit=\"s\" PositionX=\"0.0\" PositionXUnit=\"reference frame\" PositionY=\"0.0\" PositionYUnit=\"reference frame\" PositionZ=\"-67.675\" PositionZUnit=\"reference frame\" TheC=\"0\" TheT=\"0\" TheZ=\"16\" /><Plane DeltaT=\"30.92200005054474\" DeltaTUnit=\"s\" PositionX=\"0.0\" PositionXUnit=\"reference frame\" PositionY=\"0.0\" PositionYUnit=\"reference frame\" PositionZ=\"-67.375\" PositionZUnit=\"reference frame\" TheC=\"0\" TheT=\"0\" TheZ=\"17\" /><Plane DeltaT=\"33.640000104904175\" DeltaTUnit=\"s\" PositionX=\"0.0\" PositionXUnit=\"reference frame\" PositionY=\"0.0\" PositionYUnit=\"reference frame\" PositionZ=\"-67.075\" PositionZUnit=\"reference frame\" TheC=\"0\" TheT=\"0\" TheZ=\"18\" /><Plane DeltaT=\"35.265000104904175\" DeltaTUnit=\"s\" PositionX=\"0.0\" PositionXUnit=\"reference frame\" PositionY=\"0.0\" PositionYUnit=\"reference frame\" PositionZ=\"-66.775\" PositionZUnit=\"reference frame\" TheC=\"0\" TheT=\"0\" TheZ=\"19\" /><Plane DeltaT=\"37.29700005054474\" DeltaTUnit=\"s\" PositionX=\"0.0\" PositionXUnit=\"reference frame\" PositionY=\"0.0\" PositionYUnit=\"reference frame\" PositionZ=\"-66.47500000000001\" PositionZUnit=\"reference frame\" TheC=\"0\" TheT=\"0\" TheZ=\"20\" /><Plane DeltaT=\"38.937000036239624\" DeltaTUnit=\"s\" PositionX=\"0.0\" PositionXUnit=\"reference frame\" PositionY=\"0.0\" PositionYUnit=\"reference frame\" PositionZ=\"-66.175\" PositionZUnit=\"reference frame\" TheC=\"0\" TheT=\"0\" TheZ=\"21\" /></Pixels></Image></OME>\n"
     ]
    }
   ],
   "source": [
    "#import tifffile\n",
    "\n",
    "with tifffile.TiffFile(filename) as tif:\n",
    "        try:\n",
    "            # get OME-XML metadata as string the old way\n",
    "            omexml_string = tif[0] #.image_description.decode('utf-8')\n",
    "        except TypeError as e:\n",
    "            print('Error: ', e)\n",
    "            omexml_string = tif.ome_metadata\n",
    "            \n",
    "#print(omexml_string)\n",
    "\n",
    "# get the OME-XML using the apeer-ometiff-library\n",
    "omemd = omexmlClass.OMEXML(omexml_string)\n",
    "print(omemd)"
   ]
  },
  {
   "cell_type": "code",
   "execution_count": 46,
   "metadata": {},
   "outputs": [
    {
     "name": "stdout",
     "output_type": "stream",
     "text": [
      "<class 'apeer_ometiff_library.omexmlClass.OMEXML'>\n",
      "0.106\n",
      "2002-05-14T16:31:48\n",
      "['Channel', 'Image', 'OriginalMetadata', 'Pixels', 'Plane', 'Plate', 'PlatesDucktype', 'StructuredAnnotations', 'TiffData', 'Well', 'WellSample', 'WellSampleDucktype', 'WellsDucktype', '__class__', '__delattr__', '__dict__', '__dir__', '__doc__', '__eq__', '__format__', '__ge__', '__getattribute__', '__gt__', '__hash__', '__init__', '__init_subclass__', '__le__', '__lt__', '__module__', '__ne__', '__new__', '__reduce__', '__reduce_ex__', '__repr__', '__setattr__', '__sizeof__', '__str__', '__subclasshook__', '__weakref__', 'dom', 'get_image_count', 'get_ns', 'image', 'image_count', 'ns', 'plates', 'root_node', 'set_image_count', 'structured_annotations', 'to_xml', 'uuidStr']\n"
     ]
    }
   ],
   "source": [
    "\n",
    "print(type(omemd))\n",
    "print( omemd.image(0).Pixels.PhysicalSizeX)\n",
    "print( omemd.image(0).AcquisitionDate)\n",
    "print( dir(omemd))"
   ]
  },
  {
   "cell_type": "code",
   "execution_count": 42,
   "metadata": {},
   "outputs": [
    {
     "name": "stdout",
     "output_type": "stream",
     "text": [
      "['AICSImage', 'Counter', 'CziFile', 'ET', 'Path', 'QAbstractItemView', 'QDialogButtonBox', 'QDir', 'QFileDialog', 'QFileSystemModel', 'QFont', 'QHBoxLayout', 'QSortFilterProxyModel', 'QTableWidget', 'QTableWidgetItem', 'QTreeView', 'QVBoxLayout', 'QWidget', 'Qt', 'QtCore', 'QtGui', 'QtWidgets', 'TableWidget', '__builtins__', '__cached__', '__doc__', '__file__', '__loader__', '__name__', '__package__', '__spec__', 'addzeros', 'bioformats', 'calc_normvar', 'calc_scaling', 'check_for_previewimage', 'checkmdscale_none', 'cm', 'convert_to_ometiff', 'correct_omeheader', 'create_metadata_dict', 'da', 'getImageSeriesIDforWell', 'get_additional_metadata_czi', 'get_array_czi', 'get_dimorder', 'get_dimpositions', 'get_fname_woext', 'get_imgtype', 'get_metadata', 'get_metadata_czi', 'get_metadata_ometiff', 'get_scalefactor', 'getdims_pylibczi', 'imread', 'imread_dask', 'jv', 'make_axes_locatable', 'md2dataframe', 'napari', 'norm_columns', 'np', 'ome_tiff_writer', 'omexmlClass', 'os', 'pd', 'plt', 'pydash', 're', 'replace_value', 'show_napari', 'sys', 'tifffile', 'time', 'update5dstack', 'use', 'writeOMETIFFplanes', 'write_ometiff', 'write_ometiff_aicsimageio', 'writexml_czi', 'writexml_ometiff', 'xmltodict', 'zis']\n"
     ]
    }
   ],
   "source": [
    "print(dir(imf))"
   ]
  },
  {
   "cell_type": "code",
   "execution_count": 20,
   "metadata": {},
   "outputs": [
    {
     "name": "stdout",
     "output_type": "stream",
     "text": [
      "'TiffFile' object is not subscriptable\n",
      "Key not found: 'OMEXML' object has no attribute 'instrument'\n",
      "Key not found: 'OMEXML' object has no attribute 'instrument'\n",
      "Key not found: 'OMEXML' object has no attribute 'instrument'\n",
      "{'Directory': 'testdata', 'Filename': '3CH_Z-Stack_RN-DAPI.ome.tiff', 'Extension': 'ome.tiff', 'ImageType': 'ometiff', 'AcqDate': '2002-05-14T16:31:48', 'TotalSeries': 1, 'SizeX': 425, 'SizeY': 425, 'SizeZ': 22, 'SizeC': 1, 'SizeT': 1, 'SizeS': 1, 'SizeB': 1, 'SizeM': 1, 'Sizes BF': [1, 1, 22, 1, 425, 425], 'DimOrder BF': 'XYCZT', 'DimOrder BF Array': 'TZCYX', 'Axes_czifile': None, 'Shape_czifile': None, 'czi_isRGB': None, 'czi_isMosaic': None, 'ObjNA': None, 'ObjMag': None, 'ObjID': None, 'ObjName': [], 'ObjImmersion': [], 'TubelensMag': [], 'ObjNominalMag': [], 'XScale': 0.106, 'YScale': 0.106, 'ZScale': 0.3, 'XScaleUnit': None, 'YScaleUnit': None, 'ZScaleUnit': None, 'DetectorModel': None, 'DetectorName': [], 'DetectorID': None, 'DetectorType': [], 'InstrumentID': None, 'Channels': ['BlueGFP'], 'ChannelNames': [], 'ChannelColors': [], 'ImageIDs': [0], 'NumPy.dtype': None, 'Name': 'Image1 #1', 'Axes_aics': 'STCZYX', 'Shape_aics': (1, 1, 1, 22, 425, 425), 'SizeX_aics': 425, 'SizeY_aics': 425, 'SizeC_aics': 1, 'SizeZ_aics': 1, 'SizeT_aics': 1, 'SizeS_aics': 1}\n"
     ]
    }
   ],
   "source": [
    "ome_metadata = imf.get_metadata_ometiff(filename) \n",
    "print(ome_metadata)"
   ]
  },
  {
   "cell_type": "code",
   "execution_count": 17,
   "metadata": {
    "tags": []
   },
   "outputs": [
    {
     "name": "stdout",
     "output_type": "stream",
     "text": [
      "OrderedDict([('OME', OrderedDict([('@xmlns', 'http://www.openmicroscopy.org/Schemas/OME/2016-06'), ('@xmlns:xsi', 'http://www.w3.org/2001/XMLSchema-instance'), ('@Creator', 'OME Bio-Formats 6.0.1'), ('@UUID', 'urn:uuid:894bf619-9480-4fb0-9bfe-47ec72a40f10'), ('@xsi:schemaLocation', 'http://www.openmicroscopy.org/Schemas/OME/2016-06 http://www.openmicroscopy.org/Schemas/OME/2016-06/ome.xsd'), ('Experimenter', OrderedDict([('@ID', 'Experimenter:0'), ('@UserName', 'M1SRH')])), ('Instrument', OrderedDict([('@ID', 'Instrument:0'), ('Microscope', None), ('Detector', OrderedDict([('@ID', 'Detector:1')])), ('Objective', OrderedDict([('@ID', 'Objective:1'), ('@Immersion', 'Other'), ('@NominalMagnification', '63.0')]))])), ('Image', OrderedDict([('@ID', 'Image:0'), ('@Name', 'Image1 #1'), ('AcquisitionDate', '2002-05-14T16:31:48'), ('ExperimenterRef', OrderedDict([('@ID', 'Experimenter:0')])), ('Description', 'Triple channel fluorescence, Z-Stack, DCV'), ('InstrumentRef', OrderedDict([('@ID', 'Instrument:0')])), ('ObjectiveSettings', OrderedDict([('@ID', 'Objective:1')])), ('Pixels', OrderedDict([('@BigEndian', 'false'), ('@DimensionOrder', 'XYCZT'), ('@ID', 'Pixels:0'), ('@Interleaved', 'false'), ('@PhysicalSizeX', '0.106'), ('@PhysicalSizeXUnit', 'µm'), ('@PhysicalSizeY', '0.106'), ('@PhysicalSizeYUnit', 'µm'), ('@PhysicalSizeZ', '0.3'), ('@PhysicalSizeZUnit', 'µm'), ('@SignificantBits', '16'), ('@SizeC', '1'), ('@SizeT', '1'), ('@SizeX', '425'), ('@SizeY', '425'), ('@SizeZ', '22'), ('@TimeIncrement', '0.0'), ('@TimeIncrementUnit', 's'), ('@Type', 'uint16'), ('Channel', OrderedDict([('@AcquisitionMode', 'WideField'), ('@Color', '65535'), ('@EmissionWavelength', '460.0'), ('@EmissionWavelengthUnit', 'nm'), ('@ExcitationWavelength', '360.0'), ('@ExcitationWavelengthUnit', 'nm'), ('@Fluor', 'BlueGFP'), ('@ID', 'Channel:0:0'), ('@IlluminationType', 'Other'), ('@Name', 'BlueGFP'), ('@SamplesPerPixel', '1'), ('DetectorSettings', OrderedDict([('@ID', 'Detector:1')])), ('LightPath', None)])), ('TiffData', [OrderedDict([('@FirstC', '0'), ('@FirstT', '0'), ('@FirstZ', '0'), ('@IFD', '0'), ('@PlaneCount', '1'), ('UUID', OrderedDict([('@FileName', '3CH_Z-Stack_RN-DAPI.ome.tiff'), ('#text', 'urn:uuid:894bf619-9480-4fb0-9bfe-47ec72a40f10')]))]), OrderedDict([('@FirstC', '0'), ('@FirstT', '0'), ('@FirstZ', '1'), ('@IFD', '1'), ('@PlaneCount', '1'), ('UUID', OrderedDict([('@FileName', '3CH_Z-Stack_RN-DAPI.ome.tiff'), ('#text', 'urn:uuid:894bf619-9480-4fb0-9bfe-47ec72a40f10')]))]), OrderedDict([('@FirstC', '0'), ('@FirstT', '0'), ('@FirstZ', '2'), ('@IFD', '2'), ('@PlaneCount', '1'), ('UUID', OrderedDict([('@FileName', '3CH_Z-Stack_RN-DAPI.ome.tiff'), ('#text', 'urn:uuid:894bf619-9480-4fb0-9bfe-47ec72a40f10')]))]), OrderedDict([('@FirstC', '0'), ('@FirstT', '0'), ('@FirstZ', '3'), ('@IFD', '3'), ('@PlaneCount', '1'), ('UUID', OrderedDict([('@FileName', '3CH_Z-Stack_RN-DAPI.ome.tiff'), ('#text', 'urn:uuid:894bf619-9480-4fb0-9bfe-47ec72a40f10')]))]), OrderedDict([('@FirstC', '0'), ('@FirstT', '0'), ('@FirstZ', '4'), ('@IFD', '4'), ('@PlaneCount', '1'), ('UUID', OrderedDict([('@FileName', '3CH_Z-Stack_RN-DAPI.ome.tiff'), ('#text', 'urn:uuid:894bf619-9480-4fb0-9bfe-47ec72a40f10')]))]), OrderedDict([('@FirstC', '0'), ('@FirstT', '0'), ('@FirstZ', '5'), ('@IFD', '5'), ('@PlaneCount', '1'), ('UUID', OrderedDict([('@FileName', '3CH_Z-Stack_RN-DAPI.ome.tiff'), ('#text', 'urn:uuid:894bf619-9480-4fb0-9bfe-47ec72a40f10')]))]), OrderedDict([('@FirstC', '0'), ('@FirstT', '0'), ('@FirstZ', '6'), ('@IFD', '6'), ('@PlaneCount', '1'), ('UUID', OrderedDict([('@FileName', '3CH_Z-Stack_RN-DAPI.ome.tiff'), ('#text', 'urn:uuid:894bf619-9480-4fb0-9bfe-47ec72a40f10')]))]), OrderedDict([('@FirstC', '0'), ('@FirstT', '0'), ('@FirstZ', '7'), ('@IFD', '7'), ('@PlaneCount', '1'), ('UUID', OrderedDict([('@FileName', '3CH_Z-Stack_RN-DAPI.ome.tiff'), ('#text', 'urn:uuid:894bf619-9480-4fb0-9bfe-47ec72a40f10')]))]), OrderedDict([('@FirstC', '0'), ('@FirstT', '0'), ('@FirstZ', '8'), ('@IFD', '8'), ('@PlaneCount', '1'), ('UUID', OrderedDict([('@FileName', '3CH_Z-Stack_RN-DAPI.ome.tiff'), ('#text', 'urn:uuid:894bf619-9480-4fb0-9bfe-47ec72a40f10')]))]), OrderedDict([('@FirstC', '0'), ('@FirstT', '0'), ('@FirstZ', '9'), ('@IFD', '9'), ('@PlaneCount', '1'), ('UUID', OrderedDict([('@FileName', '3CH_Z-Stack_RN-DAPI.ome.tiff'), ('#text', 'urn:uuid:894bf619-9480-4fb0-9bfe-47ec72a40f10')]))]), OrderedDict([('@FirstC', '0'), ('@FirstT', '0'), ('@FirstZ', '10'), ('@IFD', '10'), ('@PlaneCount', '1'), ('UUID', OrderedDict([('@FileName', '3CH_Z-Stack_RN-DAPI.ome.tiff'), ('#text', 'urn:uuid:894bf619-9480-4fb0-9bfe-47ec72a40f10')]))]), OrderedDict([('@FirstC', '0'), ('@FirstT', '0'), ('@FirstZ', '11'), ('@IFD', '11'), ('@PlaneCount', '1'), ('UUID', OrderedDict([('@FileName', '3CH_Z-Stack_RN-DAPI.ome.tiff'), ('#text', 'urn:uuid:894bf619-9480-4fb0-9bfe-47ec72a40f10')]))]), OrderedDict([('@FirstC', '0'), ('@FirstT', '0'), ('@FirstZ', '12'), ('@IFD', '12'), ('@PlaneCount', '1'), ('UUID', OrderedDict([('@FileName', '3CH_Z-Stack_RN-DAPI.ome.tiff'), ('#text', 'urn:uuid:894bf619-9480-4fb0-9bfe-47ec72a40f10')]))]), OrderedDict([('@FirstC', '0'), ('@FirstT', '0'), ('@FirstZ', '13'), ('@IFD', '13'), ('@PlaneCount', '1'), ('UUID', OrderedDict([('@FileName', '3CH_Z-Stack_RN-DAPI.ome.tiff'), ('#text', 'urn:uuid:894bf619-9480-4fb0-9bfe-47ec72a40f10')]))]), OrderedDict([('@FirstC', '0'), ('@FirstT', '0'), ('@FirstZ', '14'), ('@IFD', '14'), ('@PlaneCount', '1'), ('UUID', OrderedDict([('@FileName', '3CH_Z-Stack_RN-DAPI.ome.tiff'), ('#text', 'urn:uuid:894bf619-9480-4fb0-9bfe-47ec72a40f10')]))]), OrderedDict([('@FirstC', '0'), ('@FirstT', '0'), ('@FirstZ', '15'), ('@IFD', '15'), ('@PlaneCount', '1'), ('UUID', OrderedDict([('@FileName', '3CH_Z-Stack_RN-DAPI.ome.tiff'), ('#text', 'urn:uuid:894bf619-9480-4fb0-9bfe-47ec72a40f10')]))]), OrderedDict([('@FirstC', '0'), ('@FirstT', '0'), ('@FirstZ', '16'), ('@IFD', '16'), ('@PlaneCount', '1'), ('UUID', OrderedDict([('@FileName', '3CH_Z-Stack_RN-DAPI.ome.tiff'), ('#text', 'urn:uuid:894bf619-9480-4fb0-9bfe-47ec72a40f10')]))]), OrderedDict([('@FirstC', '0'), ('@FirstT', '0'), ('@FirstZ', '17'), ('@IFD', '17'), ('@PlaneCount', '1'), ('UUID', OrderedDict([('@FileName', '3CH_Z-Stack_RN-DAPI.ome.tiff'), ('#text', 'urn:uuid:894bf619-9480-4fb0-9bfe-47ec72a40f10')]))]), OrderedDict([('@FirstC', '0'), ('@FirstT', '0'), ('@FirstZ', '18'), ('@IFD', '18'), ('@PlaneCount', '1'), ('UUID', OrderedDict([('@FileName', '3CH_Z-Stack_RN-DAPI.ome.tiff'), ('#text', 'urn:uuid:894bf619-9480-4fb0-9bfe-47ec72a40f10')]))]), OrderedDict([('@FirstC', '0'), ('@FirstT', '0'), ('@FirstZ', '19'), ('@IFD', '19'), ('@PlaneCount', '1'), ('UUID', OrderedDict([('@FileName', '3CH_Z-Stack_RN-DAPI.ome.tiff'), ('#text', 'urn:uuid:894bf619-9480-4fb0-9bfe-47ec72a40f10')]))]), OrderedDict([('@FirstC', '0'), ('@FirstT', '0'), ('@FirstZ', '20'), ('@IFD', '20'), ('@PlaneCount', '1'), ('UUID', OrderedDict([('@FileName', '3CH_Z-Stack_RN-DAPI.ome.tiff'), ('#text', 'urn:uuid:894bf619-9480-4fb0-9bfe-47ec72a40f10')]))]), OrderedDict([('@FirstC', '0'), ('@FirstT', '0'), ('@FirstZ', '21'), ('@IFD', '21'), ('@PlaneCount', '1'), ('UUID', OrderedDict([('@FileName', '3CH_Z-Stack_RN-DAPI.ome.tiff'), ('#text', 'urn:uuid:894bf619-9480-4fb0-9bfe-47ec72a40f10')]))])]), ('Plane', [OrderedDict([('@DeltaT', '0.0'), ('@DeltaTUnit', 's'), ('@PositionX', '0.0'), ('@PositionXUnit', 'reference frame'), ('@PositionY', '0.0'), ('@PositionYUnit', 'reference frame'), ('@PositionZ', '-72.47500000000001'), ('@PositionZUnit', 'reference frame'), ('@TheC', '0'), ('@TheT', '0'), ('@TheZ', '0')]), OrderedDict([('@DeltaT', '1.468000054359436'), ('@DeltaTUnit', 's'), ('@PositionX', '0.0'), ('@PositionXUnit', 'reference frame'), ('@PositionY', '0.0'), ('@PositionYUnit', 'reference frame'), ('@PositionZ', '-72.175'), ('@PositionZUnit', 'reference frame'), ('@TheC', '0'), ('@TheT', '0'), ('@TheZ', '1')]), OrderedDict([('@DeltaT', '2.937000036239624'), ('@DeltaTUnit', 's'), ('@PositionX', '0.0'), ('@PositionXUnit', 'reference frame'), ('@PositionY', '0.0'), ('@PositionYUnit', 'reference frame'), ('@PositionZ', '-71.875'), ('@PositionZUnit', 'reference frame'), ('@TheC', '0'), ('@TheT', '0'), ('@TheZ', '2')]), OrderedDict([('@DeltaT', '4.343000054359436'), ('@DeltaTUnit', 's'), ('@PositionX', '0.0'), ('@PositionXUnit', 'reference frame'), ('@PositionY', '0.0'), ('@PositionYUnit', 'reference frame'), ('@PositionZ', '-71.575'), ('@PositionZUnit', 'reference frame'), ('@TheC', '0'), ('@TheT', '0'), ('@TheZ', '3')]), OrderedDict([('@DeltaT', '5.765000104904175'), ('@DeltaTUnit', 's'), ('@PositionX', '0.0'), ('@PositionXUnit', 'reference frame'), ('@PositionY', '0.0'), ('@PositionYUnit', 'reference frame'), ('@PositionZ', '-71.275'), ('@PositionZUnit', 'reference frame'), ('@TheC', '0'), ('@TheT', '0'), ('@TheZ', '4')]), OrderedDict([('@DeltaT', '7.187000036239624'), ('@DeltaTUnit', 's'), ('@PositionX', '0.0'), ('@PositionXUnit', 'reference frame'), ('@PositionY', '0.0'), ('@PositionYUnit', 'reference frame'), ('@PositionZ', '-70.97500000000001'), ('@PositionZUnit', 'reference frame'), ('@TheC', '0'), ('@TheT', '0'), ('@TheZ', '5')]), OrderedDict([('@DeltaT', '9.125'), ('@DeltaTUnit', 's'), ('@PositionX', '0.0'), ('@PositionXUnit', 'reference frame'), ('@PositionY', '0.0'), ('@PositionYUnit', 'reference frame'), ('@PositionZ', '-70.675'), ('@PositionZUnit', 'reference frame'), ('@TheC', '0'), ('@TheT', '0'), ('@TheZ', '6')]), OrderedDict([('@DeltaT', '11.25'), ('@DeltaTUnit', 's'), ('@PositionX', '0.0'), ('@PositionXUnit', 'reference frame'), ('@PositionY', '0.0'), ('@PositionYUnit', 'reference frame'), ('@PositionZ', '-70.375'), ('@PositionZUnit', 'reference frame'), ('@TheC', '0'), ('@TheT', '0'), ('@TheZ', '7')]), OrderedDict([('@DeltaT', '12.922000050544739'), ('@DeltaTUnit', 's'), ('@PositionX', '0.0'), ('@PositionXUnit', 'reference frame'), ('@PositionY', '0.0'), ('@PositionYUnit', 'reference frame'), ('@PositionZ', '-70.075'), ('@PositionZUnit', 'reference frame'), ('@TheC', '0'), ('@TheT', '0'), ('@TheZ', '8')]), OrderedDict([('@DeltaT', '14.95300006866455'), ('@DeltaTUnit', 's'), ('@PositionX', '0.0'), ('@PositionXUnit', 'reference frame'), ('@PositionY', '0.0'), ('@PositionYUnit', 'reference frame'), ('@PositionZ', '-69.775'), ('@PositionZUnit', 'reference frame'), ('@TheC', '0'), ('@TheT', '0'), ('@TheZ', '9')]), OrderedDict([('@DeltaT', '16.343000054359436'), ('@DeltaTUnit', 's'), ('@PositionX', '0.0'), ('@PositionXUnit', 'reference frame'), ('@PositionY', '0.0'), ('@PositionYUnit', 'reference frame'), ('@PositionZ', '-69.47500000000001'), ('@PositionZUnit', 'reference frame'), ('@TheC', '0'), ('@TheT', '0'), ('@TheZ', '10')]), OrderedDict([('@DeltaT', '17.75'), ('@DeltaTUnit', 's'), ('@PositionX', '0.0'), ('@PositionXUnit', 'reference frame'), ('@PositionY', '0.0'), ('@PositionYUnit', 'reference frame'), ('@PositionZ', '-69.175'), ('@PositionZUnit', 'reference frame'), ('@TheC', '0'), ('@TheT', '0'), ('@TheZ', '11')]), OrderedDict([('@DeltaT', '19.218000054359436'), ('@DeltaTUnit', 's'), ('@PositionX', '0.0'), ('@PositionXUnit', 'reference frame'), ('@PositionY', '0.0'), ('@PositionYUnit', 'reference frame'), ('@PositionZ', '-68.875'), ('@PositionZUnit', 'reference frame'), ('@TheC', '0'), ('@TheT', '0'), ('@TheZ', '12')]), OrderedDict([('@DeltaT', '20.890000104904175'), ('@DeltaTUnit', 's'), ('@PositionX', '0.0'), ('@PositionXUnit', 'reference frame'), ('@PositionY', '0.0'), ('@PositionYUnit', 'reference frame'), ('@PositionZ', '-68.575'), ('@PositionZUnit', 'reference frame'), ('@TheC', '0'), ('@TheT', '0'), ('@TheZ', '13')]), OrderedDict([('@DeltaT', '22.843000054359436'), ('@DeltaTUnit', 's'), ('@PositionX', '0.0'), ('@PositionXUnit', 'reference frame'), ('@PositionY', '0.0'), ('@PositionYUnit', 'reference frame'), ('@PositionZ', '-68.275'), ('@PositionZUnit', 'reference frame'), ('@TheC', '0'), ('@TheT', '0'), ('@TheZ', '14')]), OrderedDict([('@DeltaT', '24.890000104904175'), ('@DeltaTUnit', 's'), ('@PositionX', '0.0'), ('@PositionXUnit', 'reference frame'), ('@PositionY', '0.0'), ('@PositionYUnit', 'reference frame'), ('@PositionZ', '-67.97500000000001'), ('@PositionZUnit', 'reference frame'), ('@TheC', '0'), ('@TheT', '0'), ('@TheZ', '15')]), OrderedDict([('@DeltaT', '28.812000036239624'), ('@DeltaTUnit', 's'), ('@PositionX', '0.0'), ('@PositionXUnit', 'reference frame'), ('@PositionY', '0.0'), ('@PositionYUnit', 'reference frame'), ('@PositionZ', '-67.675'), ('@PositionZUnit', 'reference frame'), ('@TheC', '0'), ('@TheT', '0'), ('@TheZ', '16')]), OrderedDict([('@DeltaT', '30.92200005054474'), ('@DeltaTUnit', 's'), ('@PositionX', '0.0'), ('@PositionXUnit', 'reference frame'), ('@PositionY', '0.0'), ('@PositionYUnit', 'reference frame'), ('@PositionZ', '-67.375'), ('@PositionZUnit', 'reference frame'), ('@TheC', '0'), ('@TheT', '0'), ('@TheZ', '17')]), OrderedDict([('@DeltaT', '33.640000104904175'), ('@DeltaTUnit', 's'), ('@PositionX', '0.0'), ('@PositionXUnit', 'reference frame'), ('@PositionY', '0.0'), ('@PositionYUnit', 'reference frame'), ('@PositionZ', '-67.075'), ('@PositionZUnit', 'reference frame'), ('@TheC', '0'), ('@TheT', '0'), ('@TheZ', '18')]), OrderedDict([('@DeltaT', '35.265000104904175'), ('@DeltaTUnit', 's'), ('@PositionX', '0.0'), ('@PositionXUnit', 'reference frame'), ('@PositionY', '0.0'), ('@PositionYUnit', 'reference frame'), ('@PositionZ', '-66.775'), ('@PositionZUnit', 'reference frame'), ('@TheC', '0'), ('@TheT', '0'), ('@TheZ', '19')]), OrderedDict([('@DeltaT', '37.29700005054474'), ('@DeltaTUnit', 's'), ('@PositionX', '0.0'), ('@PositionXUnit', 'reference frame'), ('@PositionY', '0.0'), ('@PositionYUnit', 'reference frame'), ('@PositionZ', '-66.47500000000001'), ('@PositionZUnit', 'reference frame'), ('@TheC', '0'), ('@TheT', '0'), ('@TheZ', '20')]), OrderedDict([('@DeltaT', '38.937000036239624'), ('@DeltaTUnit', 's'), ('@PositionX', '0.0'), ('@PositionXUnit', 'reference frame'), ('@PositionY', '0.0'), ('@PositionYUnit', 'reference frame'), ('@PositionZ', '-66.175'), ('@PositionZUnit', 'reference frame'), ('@TheC', '0'), ('@TheT', '0'), ('@TheZ', '21')])])]))]))]))])\n"
     ]
    }
   ],
   "source": [
    "import xmltodict\n",
    "print(xmltodict.parse(omexml) )   # never used"
   ]
  },
  {
   "cell_type": "code",
   "execution_count": 5,
   "metadata": {
    "tags": []
   },
   "outputs": [
    {
     "name": "stdout",
     "output_type": "stream",
     "text": [
      "{'Directory': 'testdata', 'Filename': '3CH_Z-Stack_RN-DAPI.ome.tiff', 'Extension': 'ome.tiff', 'ImageType': 'ometiff', 'AcqDate': '2002-05-14T16:31:48', 'TotalSeries': 1, 'SizeX': 425, 'SizeY': 425, 'SizeZ': 22, 'SizeC': 1, 'SizeT': 1, 'SizeS': 1, 'SizeB': 1, 'SizeM': 1, 'Sizes BF': [1, 1, 22, 1, 425, 425], 'DimOrder BF': 'XYCZT', 'DimOrder BF Array': 'TZCYX', 'Axes_czifile': None, 'Shape_czifile': None, 'czi_isRGB': None, 'czi_isMosaic': None, 'ObjNA': None, 'ObjMag': None, 'ObjID': None, 'ObjName': [], 'ObjImmersion': [], 'TubelensMag': [], 'ObjNominalMag': [], 'XScale': 0.106, 'YScale': 0.106, 'ZScale': 0.3, 'XScaleUnit': None, 'YScaleUnit': None, 'ZScaleUnit': None, 'DetectorModel': None, 'DetectorName': [], 'DetectorID': None, 'DetectorType': [], 'InstrumentID': None, 'Channels': ['BlueGFP'], 'ChannelNames': [], 'ChannelColors': [], 'ImageIDs': [0], 'NumPy.dtype': None, 'Name': 'Image1 #1', 'Axes_aics': 'STCZYX', 'Shape_aics': (1, 1, 1, 22, 425, 425), 'SizeX_aics': 425, 'SizeY_aics': 425, 'SizeC_aics': 1, 'SizeZ_aics': 1, 'SizeT_aics': 1, 'SizeS_aics': 1}\n"
     ]
    }
   ],
   "source": [
    "print(metadata)"
   ]
  },
  {
   "cell_type": "code",
   "execution_count": 6,
   "metadata": {
    "collapsed": true,
    "jupyter": {
     "outputs_hidden": true
    },
    "tags": []
   },
   "outputs": [
    {
     "name": "stdout",
     "output_type": "stream",
     "text": [
      "{}\n"
     ]
    }
   ],
   "source": [
    "print(add_metadata)"
   ]
  },
  {
   "cell_type": "code",
   "execution_count": 7,
   "metadata": {
    "slideshow": {
     "slide_type": "slide"
    }
   },
   "outputs": [
    {
     "name": "stdout",
     "output_type": "stream",
     "text": [
      "Array Shape:  (1, 22, 1, 425, 425)\n",
      "Dimension Order (BioFormats) :  TZCYX\n",
      "SizeT :  1\n",
      "SizeZ :  22\n",
      "SizeC :  1\n",
      "SizeX :  425\n",
      "SizeY :  425\n",
      "XScale:  0.106\n",
      "YScale:  0.106\n",
      "ZScale:  0.3\n"
     ]
    }
   ],
   "source": [
    "# check the shape of numpy array containing the pixel data\n",
    "print('Array Shape: ', array.shape)\n",
    "\n",
    "# get dimension order from metadata\n",
    "print('Dimension Order (BioFormats) : ', metadata['DimOrder BF Array'])\n",
    "\n",
    "# show dimensions and scaling\n",
    "print('SizeT : ', metadata['SizeT'])\n",
    "print('SizeZ : ', metadata['SizeZ'])\n",
    "print('SizeC : ', metadata['SizeC'])\n",
    "print('SizeX : ', metadata['SizeX'])\n",
    "print('SizeY : ', metadata['SizeY'])\n",
    "print('XScale: ', metadata['XScale'])\n",
    "print('YScale: ', metadata['YScale'])\n",
    "print('ZScale: ', metadata['ZScale'])"
   ]
  },
  {
   "cell_type": "code",
   "execution_count": 8,
   "metadata": {
    "slideshow": {
     "slide_type": "slide"
    }
   },
   "outputs": [
    {
     "data": {
      "text/html": [
       "<table border=\"1\" class=\"dataframe\">\n",
       "  <thead>\n",
       "    <tr style=\"text-align: right;\">\n",
       "      <th></th>\n",
       "      <th>Parameter</th>\n",
       "      <th>Value</th>\n",
       "    </tr>\n",
       "  </thead>\n",
       "  <tbody>\n",
       "    <tr>\n",
       "      <th>0</th>\n",
       "      <td>Directory</td>\n",
       "      <td>testdata</td>\n",
       "    </tr>\n",
       "    <tr>\n",
       "      <th>1</th>\n",
       "      <td>Filename</td>\n",
       "      <td>3CH_Z-Stack_RN-DAPI.ome.tiff</td>\n",
       "    </tr>\n",
       "    <tr>\n",
       "      <th>2</th>\n",
       "      <td>Extension</td>\n",
       "      <td>ome.tiff</td>\n",
       "    </tr>\n",
       "    <tr>\n",
       "      <th>3</th>\n",
       "      <td>ImageType</td>\n",
       "      <td>ometiff</td>\n",
       "    </tr>\n",
       "    <tr>\n",
       "      <th>4</th>\n",
       "      <td>AcqDate</td>\n",
       "      <td>2002-05-14T16:31:48</td>\n",
       "    </tr>\n",
       "    <tr>\n",
       "      <th>5</th>\n",
       "      <td>TotalSeries</td>\n",
       "      <td>1</td>\n",
       "    </tr>\n",
       "    <tr>\n",
       "      <th>6</th>\n",
       "      <td>SizeX</td>\n",
       "      <td>425</td>\n",
       "    </tr>\n",
       "    <tr>\n",
       "      <th>7</th>\n",
       "      <td>SizeY</td>\n",
       "      <td>425</td>\n",
       "    </tr>\n",
       "    <tr>\n",
       "      <th>8</th>\n",
       "      <td>SizeZ</td>\n",
       "      <td>22</td>\n",
       "    </tr>\n",
       "    <tr>\n",
       "      <th>9</th>\n",
       "      <td>SizeC</td>\n",
       "      <td>1</td>\n",
       "    </tr>\n",
       "    <tr>\n",
       "      <th>10</th>\n",
       "      <td>SizeT</td>\n",
       "      <td>1</td>\n",
       "    </tr>\n",
       "    <tr>\n",
       "      <th>11</th>\n",
       "      <td>SizeS</td>\n",
       "      <td>1</td>\n",
       "    </tr>\n",
       "    <tr>\n",
       "      <th>12</th>\n",
       "      <td>SizeB</td>\n",
       "      <td>1</td>\n",
       "    </tr>\n",
       "    <tr>\n",
       "      <th>13</th>\n",
       "      <td>SizeM</td>\n",
       "      <td>1</td>\n",
       "    </tr>\n",
       "    <tr>\n",
       "      <th>14</th>\n",
       "      <td>Sizes BF</td>\n",
       "      <td>[1, 1, 22, 1, 425, 425]</td>\n",
       "    </tr>\n",
       "    <tr>\n",
       "      <th>15</th>\n",
       "      <td>DimOrder BF</td>\n",
       "      <td>XYCZT</td>\n",
       "    </tr>\n",
       "    <tr>\n",
       "      <th>16</th>\n",
       "      <td>DimOrder BF Array</td>\n",
       "      <td>TZCYX</td>\n",
       "    </tr>\n",
       "    <tr>\n",
       "      <th>17</th>\n",
       "      <td>Axes_czifile</td>\n",
       "      <td>None</td>\n",
       "    </tr>\n",
       "    <tr>\n",
       "      <th>18</th>\n",
       "      <td>Shape_czifile</td>\n",
       "      <td>None</td>\n",
       "    </tr>\n",
       "    <tr>\n",
       "      <th>19</th>\n",
       "      <td>czi_isRGB</td>\n",
       "      <td>None</td>\n",
       "    </tr>\n",
       "    <tr>\n",
       "      <th>20</th>\n",
       "      <td>czi_isMosaic</td>\n",
       "      <td>None</td>\n",
       "    </tr>\n",
       "    <tr>\n",
       "      <th>21</th>\n",
       "      <td>ObjNA</td>\n",
       "      <td>None</td>\n",
       "    </tr>\n",
       "    <tr>\n",
       "      <th>22</th>\n",
       "      <td>ObjMag</td>\n",
       "      <td>None</td>\n",
       "    </tr>\n",
       "    <tr>\n",
       "      <th>23</th>\n",
       "      <td>ObjID</td>\n",
       "      <td>None</td>\n",
       "    </tr>\n",
       "    <tr>\n",
       "      <th>24</th>\n",
       "      <td>ObjName</td>\n",
       "      <td>[]</td>\n",
       "    </tr>\n",
       "    <tr>\n",
       "      <th>25</th>\n",
       "      <td>ObjImmersion</td>\n",
       "      <td>[]</td>\n",
       "    </tr>\n",
       "    <tr>\n",
       "      <th>26</th>\n",
       "      <td>TubelensMag</td>\n",
       "      <td>[]</td>\n",
       "    </tr>\n",
       "    <tr>\n",
       "      <th>27</th>\n",
       "      <td>ObjNominalMag</td>\n",
       "      <td>[]</td>\n",
       "    </tr>\n",
       "    <tr>\n",
       "      <th>28</th>\n",
       "      <td>XScale</td>\n",
       "      <td>0.106</td>\n",
       "    </tr>\n",
       "    <tr>\n",
       "      <th>29</th>\n",
       "      <td>YScale</td>\n",
       "      <td>0.106</td>\n",
       "    </tr>\n",
       "    <tr>\n",
       "      <th>30</th>\n",
       "      <td>ZScale</td>\n",
       "      <td>0.3</td>\n",
       "    </tr>\n",
       "    <tr>\n",
       "      <th>31</th>\n",
       "      <td>XScaleUnit</td>\n",
       "      <td>None</td>\n",
       "    </tr>\n",
       "    <tr>\n",
       "      <th>32</th>\n",
       "      <td>YScaleUnit</td>\n",
       "      <td>None</td>\n",
       "    </tr>\n",
       "    <tr>\n",
       "      <th>33</th>\n",
       "      <td>ZScaleUnit</td>\n",
       "      <td>None</td>\n",
       "    </tr>\n",
       "    <tr>\n",
       "      <th>34</th>\n",
       "      <td>DetectorModel</td>\n",
       "      <td>None</td>\n",
       "    </tr>\n",
       "    <tr>\n",
       "      <th>35</th>\n",
       "      <td>DetectorName</td>\n",
       "      <td>[]</td>\n",
       "    </tr>\n",
       "    <tr>\n",
       "      <th>36</th>\n",
       "      <td>DetectorID</td>\n",
       "      <td>None</td>\n",
       "    </tr>\n",
       "    <tr>\n",
       "      <th>37</th>\n",
       "      <td>DetectorType</td>\n",
       "      <td>[]</td>\n",
       "    </tr>\n",
       "    <tr>\n",
       "      <th>38</th>\n",
       "      <td>InstrumentID</td>\n",
       "      <td>None</td>\n",
       "    </tr>\n",
       "    <tr>\n",
       "      <th>39</th>\n",
       "      <td>Channels</td>\n",
       "      <td>[BlueGFP]</td>\n",
       "    </tr>\n",
       "    <tr>\n",
       "      <th>40</th>\n",
       "      <td>ChannelNames</td>\n",
       "      <td>[]</td>\n",
       "    </tr>\n",
       "    <tr>\n",
       "      <th>41</th>\n",
       "      <td>ChannelColors</td>\n",
       "      <td>[]</td>\n",
       "    </tr>\n",
       "    <tr>\n",
       "      <th>42</th>\n",
       "      <td>ImageIDs</td>\n",
       "      <td>[0]</td>\n",
       "    </tr>\n",
       "    <tr>\n",
       "      <th>43</th>\n",
       "      <td>NumPy.dtype</td>\n",
       "      <td>None</td>\n",
       "    </tr>\n",
       "    <tr>\n",
       "      <th>44</th>\n",
       "      <td>Name</td>\n",
       "      <td>Image1 #1</td>\n",
       "    </tr>\n",
       "    <tr>\n",
       "      <th>45</th>\n",
       "      <td>Axes_aics</td>\n",
       "      <td>STCZYX</td>\n",
       "    </tr>\n",
       "    <tr>\n",
       "      <th>46</th>\n",
       "      <td>Shape_aics</td>\n",
       "      <td>(1, 1, 1, 22, 425, 425)</td>\n",
       "    </tr>\n",
       "    <tr>\n",
       "      <th>47</th>\n",
       "      <td>SizeX_aics</td>\n",
       "      <td>425</td>\n",
       "    </tr>\n",
       "    <tr>\n",
       "      <th>48</th>\n",
       "      <td>SizeY_aics</td>\n",
       "      <td>425</td>\n",
       "    </tr>\n",
       "    <tr>\n",
       "      <th>49</th>\n",
       "      <td>SizeC_aics</td>\n",
       "      <td>1</td>\n",
       "    </tr>\n",
       "    <tr>\n",
       "      <th>50</th>\n",
       "      <td>SizeZ_aics</td>\n",
       "      <td>1</td>\n",
       "    </tr>\n",
       "    <tr>\n",
       "      <th>51</th>\n",
       "      <td>SizeT_aics</td>\n",
       "      <td>1</td>\n",
       "    </tr>\n",
       "    <tr>\n",
       "      <th>52</th>\n",
       "      <td>SizeS_aics</td>\n",
       "      <td>1</td>\n",
       "    </tr>\n",
       "  </tbody>\n",
       "</table>"
      ],
      "text/plain": [
       "<IPython.core.display.HTML object>"
      ]
     },
     "metadata": {},
     "output_type": "display_data"
    }
   ],
   "source": [
    "### show complete metadata\n",
    "\n",
    "# convert metadata dictionary to a pandas dataframe\n",
    "mdframe = imf.md2dataframe(metadata)\n",
    "\n",
    "# and display it nicely as a HTML inside the jupyter notebook\n",
    "display(HTML(mdframe.to_html()))"
   ]
  },
  {
   "cell_type": "code",
   "execution_count": 11,
   "metadata": {
    "slideshow": {
     "slide_type": "slide"
    }
   },
   "outputs": [
    {
     "name": "stderr",
     "output_type": "stream",
     "text": [
      "C:\\Users\\KevinKearney\\Anaconda3\\envs\\ome-dev\\lib\\site-packages\\napari\\_qt\\qt_event_loop.py:265: FutureWarning: \n",
      "The 'gui_qt()' context manager is deprecated.\n",
      "If you are running napari from a script, please use 'napari.run()' as follows:\n",
      "\n",
      "    import napari\n",
      "\n",
      "    viewer = napari.Viewer()  # no prior setup needed\n",
      "    # other code using the viewer...\n",
      "    napari.run()\n",
      "\n",
      "In IPython or Jupyter, 'napari.run()' is not necessary. napari will automatically\n",
      "start an interactive event loop for you: \n",
      "\n",
      "    import napari\n",
      "    viewer = napari.Viewer()  # that's it!\n",
      "\n",
      "  warn(\n"
     ]
    },
    {
     "name": "stdout",
     "output_type": "stream",
     "text": [
      "Initializing Napari Viewer ...\n",
      "Adding Channel:  BlueGFP\n",
      "Scaling Factors:  [1.0, 2.83, 1.0, 1.0, 1.0]\n",
      "Scaling:  30.0 1954.0\n",
      "Renaming the Sliders based on the Dimension String ....\n"
     ]
    }
   ],
   "source": [
    "# Here we use the Napari viewer (https://github.com/napari/napari) to visualize the\n",
    "# complete OME-TIFF stack, which is represented by a multi-dimensional NumPy Array. \n",
    "\n",
    "# configure napari automatically based on metadata and show the OME-TIFF stack\n",
    "layers = imf.show_napari(array, metadata,\n",
    "                         blending='additive',\n",
    "                         gamma=0.85,\n",
    "                         add_mdtable=True,\n",
    "                         rename_sliders=True,\n",
    "                         use_BFdims=True)"
   ]
  },
  {
   "cell_type": "markdown",
   "metadata": {
    "slideshow": {
     "slide_type": "slide"
    }
   },
   "source": [
    "In order to create a slideshow using this notebook run the following lines from a command line:\n",
    "\n",
    "```bash\n",
    "cd c:\\Users\\...\\jupyter_notebooks\\Read_CZI_and_OMETIFF_and_display_widgets_and_napari\n",
    "\n",
    "jupyter nbconvert using_apeer-ometiff-library.ipynb --to slides --post serve\n",
    "```"
   ]
  },
  {
   "cell_type": "code",
   "execution_count": null,
   "metadata": {},
   "outputs": [],
   "source": []
  }
 ],
 "metadata": {
  "celltoolbar": "Slideshow",
  "file_extension": ".py",
  "kernelspec": {
   "display_name": "Python 3 (ipykernel)",
   "language": "python",
   "name": "python3"
  },
  "language_info": {
   "codemirror_mode": {
    "name": "ipython",
    "version": 3
   },
   "file_extension": ".py",
   "mimetype": "text/x-python",
   "name": "python",
   "nbconvert_exporter": "python",
   "pygments_lexer": "ipython3",
   "version": "3.9.7"
  },
  "mimetype": "text/x-python",
  "name": "python",
  "npconvert_exporter": "python",
  "pygments_lexer": "ipython3",
  "version": 3
 },
 "nbformat": 4,
 "nbformat_minor": 4
}
