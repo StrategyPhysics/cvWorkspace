{
 "cells": [
  {
   "cell_type": "code",
   "execution_count": 1,
   "id": "54172e4e",
   "metadata": {},
   "outputs": [],
   "source": [
    "import cv2\n",
    "import numpy as np\n",
    "from cv2 import VideoWriter, VideoWriter_fourcc\n",
    "\n",
    "import pandas as pd\n",
    "import matplotlib.pyplot as plt\n",
    "import pickle"
   ]
  },
  {
   "cell_type": "code",
   "execution_count": 7,
   "id": "2c5807d5",
   "metadata": {},
   "outputs": [],
   "source": [
    "# https://medium.com/@enriqueav/how-to-create-video-animations-using-python-and-opencv-881b18e41397"
   ]
  },
  {
   "cell_type": "code",
   "execution_count": 2,
   "id": "fc774ead",
   "metadata": {},
   "outputs": [],
   "source": [
    "width = 1280\n",
    "height = 720\n",
    "FPS = 24\n",
    "seconds = 10"
   ]
  },
  {
   "cell_type": "markdown",
   "id": "fcde5f15",
   "metadata": {},
   "source": [
    "To save a video file, OpenCV needs two things: a codec VideoWriter_fourcc and a writer object VideoWriter . FourCC is a 4-byte code used to specify the video codec\n",
    "\n",
    "Note the video writer takes four parameters:\n",
    "Path of the video (usually .avi, .mov or .mp4, depending on the codec).\n",
    "FourCC codec\n",
    "Frames per seconds\n",
    "Size: a tuple (width, height)."
   ]
  },
  {
   "cell_type": "code",
   "execution_count": 3,
   "id": "0d4a30ae",
   "metadata": {},
   "outputs": [],
   "source": [
    "fourcc = VideoWriter_fourcc(*'MP42')\n",
    "video = VideoWriter('./noise.avi', fourcc, float(FPS), (width, height))"
   ]
  },
  {
   "cell_type": "markdown",
   "id": "7182ae5f",
   "metadata": {},
   "source": [
    "The we create a loop to write to the video frame by frame. In OpenCV we can represent an image (a frame, in this case) with a three-dimensional numpy array of uint8 type. The dimensions of the array are height , width (note the order is reversed) and the number 3 , one fore each channel (reed, green and blue). Using np.random.randint we initialize each position with a value between 0 and 225. Finally we add each frame to the video using video.write :"
   ]
  },
  {
   "cell_type": "code",
   "execution_count": 4,
   "id": "a1fdf1ca",
   "metadata": {},
   "outputs": [],
   "source": [
    "for _ in range(FPS*seconds):\n",
    "    frame = np.random.randint(0, 256, \n",
    "                              (height, width, 3), \n",
    "                              dtype=np.uint8)\n",
    "    video.write(frame)"
   ]
  },
  {
   "cell_type": "code",
   "execution_count": 5,
   "id": "45381e11",
   "metadata": {},
   "outputs": [],
   "source": [
    "video.release()"
   ]
  },
  {
   "cell_type": "code",
   "execution_count": 6,
   "id": "cc344780",
   "metadata": {},
   "outputs": [],
   "source": [
    "width = 1280\n",
    "height = 720\n",
    "FPS = 24\n",
    "seconds = 10\n",
    "radius = 150\n",
    "paint_h = int(height/2)\n",
    "\n",
    "fourcc = VideoWriter_fourcc(*'MP42')\n",
    "video = VideoWriter('./circle_noise.avi', fourcc, float(FPS), (width, height))\n",
    "\n",
    "for paint_x in range(-radius, width+radius, 6):\n",
    "    frame = np.random.randint(0, 256, \n",
    "                              (height, width, 3), \n",
    "                              dtype=np.uint8)\n",
    "    cv2.circle(frame, (paint_x, paint_h), radius, (0, 0, 0), -1)\n",
    "    video.write(frame)\n",
    "\n",
    "video.release()"
   ]
  },
  {
   "cell_type": "markdown",
   "id": "a6a15a5d",
   "metadata": {},
   "source": [
    "# Movie of FLIR Data"
   ]
  },
  {
   "cell_type": "code",
   "execution_count": 7,
   "id": "47ddf456",
   "metadata": {},
   "outputs": [
    {
     "ename": "FileNotFoundError",
     "evalue": "[Errno 2] No such file or directory: 'WD_632mm.pk'",
     "output_type": "error",
     "traceback": [
      "\u001b[1;31m---------------------------------------------------------------------------\u001b[0m",
      "\u001b[1;31mFileNotFoundError\u001b[0m                         Traceback (most recent call last)",
      "Input \u001b[1;32mIn [7]\u001b[0m, in \u001b[0;36m<cell line: 9>\u001b[1;34m()\u001b[0m\n\u001b[0;32m      7\u001b[0m infile \u001b[38;5;241m=\u001b[39m fname \u001b[38;5;241m+\u001b[39m \u001b[38;5;124m'\u001b[39m\u001b[38;5;124m.pk\u001b[39m\u001b[38;5;124m'\u001b[39m\n\u001b[0;32m      8\u001b[0m outfile \u001b[38;5;241m=\u001b[39m \u001b[38;5;124m'\u001b[39m\u001b[38;5;124m./\u001b[39m\u001b[38;5;124m'\u001b[39m \u001b[38;5;241m+\u001b[39m fname \u001b[38;5;241m+\u001b[39m \u001b[38;5;124m'\u001b[39m\u001b[38;5;124m.avi\u001b[39m\u001b[38;5;124m'\u001b[39m\n\u001b[1;32m----> 9\u001b[0m f \u001b[38;5;241m=\u001b[39m \u001b[38;5;28;43mopen\u001b[39;49m\u001b[43m(\u001b[49m\u001b[43minfile\u001b[49m\u001b[43m,\u001b[49m\u001b[38;5;124;43m'\u001b[39;49m\u001b[38;5;124;43mrb\u001b[39;49m\u001b[38;5;124;43m'\u001b[39;49m\u001b[43m)\u001b[49m \n\u001b[0;32m     11\u001b[0m mylist \u001b[38;5;241m=\u001b[39m pickle\u001b[38;5;241m.\u001b[39mload(f)\n\u001b[0;32m     12\u001b[0m f\u001b[38;5;241m.\u001b[39mclose()\n",
      "\u001b[1;31mFileNotFoundError\u001b[0m: [Errno 2] No such file or directory: 'WD_632mm.pk'"
     ]
    }
   ],
   "source": [
    "#fname = 'WD_140mm'\n",
    "#fname = 'WD_310mm'\n",
    "#fname = 'WD_400mm'\n",
    "#fname = 'WD_500mm'\n",
    "fname = 'WD_632mm'\n",
    "\n",
    "infile = fname + '.pk'\n",
    "outfile = './' + fname + '.avi'\n",
    "f = open(infile,'rb') \n",
    "\n",
    "mylist = pickle.load(f)\n",
    "f.close()\n",
    "\n",
    "timeStart = mylist.pop(0)\n",
    "timeStop = mylist.pop(-1)\n",
    "\n",
    "print('List length: ', len(mylist), '\\tImage dim: ', mylist[0].shape)\n",
    "\n",
    "print('Max: ', np.amax(mylist[0]), '\\tMin: ', np.amin(mylist[0]))"
   ]
  },
  {
   "cell_type": "code",
   "execution_count": 8,
   "id": "19c4a7b1",
   "metadata": {},
   "outputs": [
    {
     "ename": "NameError",
     "evalue": "name 'mylist' is not defined",
     "output_type": "error",
     "traceback": [
      "\u001b[1;31m---------------------------------------------------------------------------\u001b[0m",
      "\u001b[1;31mNameError\u001b[0m                                 Traceback (most recent call last)",
      "Input \u001b[1;32mIn [8]\u001b[0m, in \u001b[0;36m<cell line: 1>\u001b[1;34m()\u001b[0m\n\u001b[1;32m----> 1\u001b[0m list_len \u001b[38;5;241m=\u001b[39m \u001b[38;5;28mlen\u001b[39m(\u001b[43mmylist\u001b[49m)\n\u001b[0;32m      3\u001b[0m im_max \u001b[38;5;241m=\u001b[39m []\n\u001b[0;32m      4\u001b[0m im_min \u001b[38;5;241m=\u001b[39m []\n",
      "\u001b[1;31mNameError\u001b[0m: name 'mylist' is not defined"
     ]
    }
   ],
   "source": [
    "list_len = len(mylist)\n",
    "\n",
    "im_max = []\n",
    "im_min = []\n",
    "\n",
    "for i in range(list_len):\n",
    "    im_max.append(np.amax(mylist[i]))\n",
    "    im_min.append(np.amin(mylist[i]))\n",
    "    \n",
    "print(len(im_max))\n",
    "#fig = plt.figure()\n",
    "#ax = plt.axes()\n",
    "x = np.linspace(0, list_len)\n",
    "plt.title(\"Max and Min image values\")\n",
    "plt.plot(im_max, color = 'red', label = 'Max')\n",
    "plt.plot(im_min, color = 'blue', label = 'Min')\n",
    "plt.legend()"
   ]
  },
  {
   "cell_type": "code",
   "execution_count": 148,
   "id": "6a0ef787",
   "metadata": {},
   "outputs": [
    {
     "data": {
      "image/png": "[encoded data removed]",
      "text/plain": [
       "<Figure size 432x288 with 2 Axes>"
      ]
     },
     "metadata": {
      "needs_background": "light"
     },
     "output_type": "display_data"
    }
   ],
   "source": [
    "item = 300\n",
    "\n",
    "plt.imshow(mylist[item], cmap='viridis')\n",
    "plt.colorbar()\n",
    "plt.show()"
   ]
  },
  {
   "cell_type": "code",
   "execution_count": 149,
   "id": "85b70972",
   "metadata": {},
   "outputs": [
    {
     "name": "stdout",
     "output_type": "stream",
     "text": [
      "0.0 0.3509540557861328\n",
      "0.0 255.0\n",
      "0 255\n"
     ]
    }
   ],
   "source": [
    "frame = mylist[item]\n",
    "\n",
    "frame = frame - np.amin(frame)\n",
    "print(np.amin(frame), np.amax(frame))\n",
    "\n",
    "frame = 255*frame/np.amax(frame)\n",
    "print(np.amin(frame), np.amax(frame))\n",
    "\n",
    "frame = frame.astype(dtype=np.uint8)\n",
    "print(np.amin(frame), np.amax(frame))"
   ]
  },
  {
   "cell_type": "markdown",
   "id": "5105fbfa",
   "metadata": {},
   "source": [
    "## Set up video parameters"
   ]
  },
  {
   "cell_type": "code",
   "execution_count": 150,
   "id": "573b8f07",
   "metadata": {},
   "outputs": [],
   "source": [
    "imLength = len(mylist)\n",
    "\n",
    "width = mylist[0].shape[1]\n",
    "height = mylist[0].shape[0]\n",
    "\n",
    "FPS = 24\n",
    "\n",
    "# https://www.pyimagesearch.com/2016/02/22/writing-to-video-with-opencv/\n",
    "fourcc = VideoWriter_fourcc(*'MP42')  # MPeG-4\n",
    "#fourcc = VideoWriter_fourcc(*'MJPG')  #Motion JPEG\n",
    "#video = VideoWriter('./flir.avi', fourcc, float(FPS), (width, height))"
   ]
  },
  {
   "cell_type": "markdown",
   "id": "a9227eb8",
   "metadata": {},
   "source": [
    "## Linear contrast stretch"
   ]
  },
  {
   "cell_type": "code",
   "execution_count": 151,
   "id": "ffef0971",
   "metadata": {},
   "outputs": [
    {
     "name": "stderr",
     "output_type": "stream",
     "text": [
      "C:\\Users\\KEVINK~1\\AppData\\Local\\Temp/ipykernel_19920/1427528288.py:7: RuntimeWarning: invalid value encountered in true_divide\n",
      "  frame = 255*frame/np.amax(frame)\n"
     ]
    }
   ],
   "source": [
    "video = VideoWriter(outfile, fourcc, float(FPS), (width, height))  # './flir_linear.avi'\n",
    "\n",
    "for i in range(imLength):\n",
    "    frame = mylist[i]\n",
    "    \n",
    "    frame = frame - np.amin(frame)\n",
    "    frame = 255*frame/np.amax(frame)\n",
    "    frame = frame.astype(dtype=np.uint8)\n",
    "    rgb = cv2.cvtColor(frame,cv2.COLOR_GRAY2RGB)\n",
    "    # https://docs.opencv.org/3.4.12/d3/d50/group__imgproc__colormap.html\n",
    "    imC = cv2.applyColorMap(rgb, cv2.COLORMAP_PLASMA)\n",
    "\n",
    "    #frame = np.random.randint(0, 256, (height, width, 3), dtype=np.uint8)\n",
    "    video.write(imC)\n",
    "    \n",
    "video.release()"
   ]
  },
  {
   "cell_type": "markdown",
   "id": "e9ee08b3",
   "metadata": {},
   "source": [
    "## Hist EQ"
   ]
  },
  {
   "cell_type": "code",
   "execution_count": 73,
   "id": "e530c849",
   "metadata": {},
   "outputs": [],
   "source": [
    "video = VideoWriter('./flir_histEQ.avi', fourcc, float(FPS), (width, height))\n",
    "\n",
    "for i in range(imLength):\n",
    "    frame = mylist[i].astype(dtype=np.uint8)\n",
    "    rgb = cv2.cvtColor(frame,cv2.COLOR_GRAY2RGB)\n",
    "    gray = cv2.cvtColor(rgb, cv2.COLOR_RGB2GRAY)\n",
    "    equalized = cv2.equalizeHist(gray)\n",
    "    rgb2 = cv2.cvtColor(equalized,cv2.COLOR_GRAY2RGB)\n",
    "\n",
    "    video.write(rgb2)\n",
    "    \n",
    "video.release()"
   ]
  },
  {
   "cell_type": "markdown",
   "id": "3f76c4ee",
   "metadata": {},
   "source": [
    "## Adaptive EQ"
   ]
  },
  {
   "cell_type": "code",
   "execution_count": 74,
   "id": "562b2805",
   "metadata": {},
   "outputs": [],
   "source": [
    "video = VideoWriter('./flir_adaptEQ.avi', fourcc, float(FPS), (width, height))\n",
    "\n",
    "for i in range(imLength):\n",
    "    frame = mylist[i].astype(dtype=np.uint8)\n",
    "    rgb = cv2.cvtColor(frame,cv2.COLOR_GRAY2RGB)\n",
    "    gray = cv2.cvtColor(rgb, cv2.COLOR_RGB2GRAY)\n",
    "    clahe = cv2.createCLAHE(clipLimit = 1.0, tileGridSize=(8, 8))\n",
    "    equalized = clahe.apply(gray)\n",
    "    rgb2 = cv2.cvtColor(equalized,cv2.COLOR_GRAY2RGB)\n",
    "\n",
    "    video.write(rgb2)\n",
    "    \n",
    "video.release()"
   ]
  },
  {
   "cell_type": "code",
   "execution_count": null,
   "id": "232187ca",
   "metadata": {},
   "outputs": [],
   "source": []
  },
  {
   "cell_type": "code",
   "execution_count": null,
   "id": "1a1e9399",
   "metadata": {},
   "outputs": [],
   "source": []
  }
 ],
 "metadata": {
  "kernelspec": {
   "display_name": "Python 3 (ipykernel)",
   "language": "python",
   "name": "python3"
  },
  "language_info": {
   "codemirror_mode": {
    "name": "ipython",
    "version": 3
   },
   "file_extension": ".py",
   "mimetype": "text/x-python",
   "name": "python",
   "nbconvert_exporter": "python",
   "pygments_lexer": "ipython3",
   "version": "3.10.4"
  }
 },
 "nbformat": 4,
 "nbformat_minor": 5
}
